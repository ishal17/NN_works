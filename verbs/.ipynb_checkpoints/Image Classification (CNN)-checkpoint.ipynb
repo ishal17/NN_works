{
 "cells": [
  {
   "cell_type": "markdown",
   "metadata": {},
   "source": [
    "# Image Classification\n",
    "\n",
    "#### Given dataset consists of 24x24 images (spectograms of 4 different word recordings). The labels are integers from 0 to 3. There's a total of 7920 examples, 1980 per each class. Goal is to classify images using convolutional neural network (CNN)."
   ]
  },
  {
   "cell_type": "code",
   "execution_count": 1,
   "metadata": {},
   "outputs": [],
   "source": [
    "# basic imports\n",
    "import numpy as np\n",
    "import matplotlib.pyplot as plt\n",
    "\n",
    "# for reading hdf5 file\n",
    "import h5py\n",
    "\n",
    "# for encoding labels\n",
    "from sklearn.preprocessing import LabelEncoder\n",
    "from tensorflow.keras.utils import to_categorical\n",
    "\n",
    "# for building CNN\n",
    "from tensorflow.keras.models import Sequential\n",
    "from tensorflow.keras.layers import Dense, Conv2D, MaxPooling2D, Flatten\n",
    "\n",
    "# for loading TensorBoard\n",
    "import datetime, os\n",
    "from tensorflow.keras.callbacks import TensorBoard"
   ]
  },
  {
   "cell_type": "code",
   "execution_count": 2,
   "metadata": {},
   "outputs": [],
   "source": [
    "# read data and store it in numpy arrays\n",
    "f = h5py.File('data/db.dog.hdf5', 'r')\n",
    "\n",
    "data_key = list(f.keys())[0]\n",
    "labels_key = list(f.keys())[1]\n",
    "\n",
    "data = f[data_key]\n",
    "labels = f[labels_key]\n",
    "\n",
    "data_arr = np.array(data)\n",
    "labels_arr = np.array(labels)"
   ]
  },
  {
   "cell_type": "markdown",
   "metadata": {},
   "source": [
    "__Explore data__"
   ]
  },
  {
   "cell_type": "code",
   "execution_count": 3,
   "metadata": {},
   "outputs": [
    {
     "name": "stdout",
     "output_type": "stream",
     "text": [
      "(7920, 24, 24) (7920,)\n"
     ]
    }
   ],
   "source": [
    "print (data_arr.shape,labels_arr.shape)"
   ]
  },
  {
   "cell_type": "code",
   "execution_count": 4,
   "metadata": {
    "scrolled": true
   },
   "outputs": [
    {
     "data": {
      "text/plain": [
       "<matplotlib.image.AxesImage at 0x7efd353a4e20>"
      ]
     },
     "execution_count": 4,
     "metadata": {},
     "output_type": "execute_result"
    },
    {
     "data": {
      "image/png": "[encoded data removed]",
      "text/plain": [
       "<Figure size 432x288 with 1 Axes>"
      ]
     },
     "metadata": {
      "needs_background": "light"
     },
     "output_type": "display_data"
    }
   ],
   "source": [
    "# check example\n",
    "plt.imshow(data_arr[0])"
   ]
  },
  {
   "cell_type": "code",
   "execution_count": 5,
   "metadata": {},
   "outputs": [
    {
     "name": "stdout",
     "output_type": "stream",
     "text": [
      "254.0\n",
      "231.0\n"
     ]
    }
   ],
   "source": [
    "# check range of pixel values\n",
    "print(np.max(data_arr))\n",
    "print(np.min(data_arr))"
   ]
  },
  {
   "cell_type": "code",
   "execution_count": 6,
   "metadata": {},
   "outputs": [],
   "source": [
    "# normalize data (we get data in [0,1] interval)\n",
    "# and shift it to [-0.5,0.5]\n",
    "data_arr_scaled = (data_arr - np.min(data_arr)) / (np.max(data_arr) - np.min(data_arr)) - 0.5"
   ]
  },
  {
   "cell_type": "code",
   "execution_count": 7,
   "metadata": {},
   "outputs": [
    {
     "name": "stdout",
     "output_type": "stream",
     "text": [
      "0.5\n",
      "-0.5\n"
     ]
    }
   ],
   "source": [
    "# check scaled data\n",
    "print(np.max(data_arr_scaled))\n",
    "print(np.min(data_arr_scaled))"
   ]
  },
  {
   "cell_type": "code",
   "execution_count": 8,
   "metadata": {},
   "outputs": [],
   "source": [
    "# transform data as input format\n",
    "n_examples, dim1, dim2 = data_arr_scaled.shape\n",
    "data_arr_scaled = data_arr_scaled.reshape(n_examples, dim1, dim2,1)\n",
    "\n",
    "# encode labels\n",
    "encoder = LabelEncoder()\n",
    "encoder.fit(labels_arr)\n",
    "encoded = encoder.transform(labels_arr)\n",
    "labels_one_hot = to_categorical(labels_arr, num_classes=4)"
   ]
  },
  {
   "cell_type": "code",
   "execution_count": 9,
   "metadata": {},
   "outputs": [],
   "source": [
    "from sklearn.model_selection import train_test_split\n",
    "# split 10% from whole data as test set\n",
    "X_train, X_test, y_train, y_test = train_test_split(data_arr_scaled, labels_one_hot, test_size=0.1)"
   ]
  },
  {
   "cell_type": "code",
   "execution_count": 10,
   "metadata": {},
   "outputs": [
    {
     "name": "stdout",
     "output_type": "stream",
     "text": [
      "(7128, 24, 24, 1) (7128, 4)\n",
      "(792, 24, 24, 1) (792, 4)\n"
     ]
    }
   ],
   "source": [
    "# check dimensions\n",
    "print(X_train.shape, y_train.shape)\n",
    "print(X_test.shape, y_test.shape)"
   ]
  },
  {
   "cell_type": "markdown",
   "metadata": {},
   "source": [
    "__Build CNN model__"
   ]
  },
  {
   "cell_type": "code",
   "execution_count": 11,
   "metadata": {},
   "outputs": [],
   "source": [
    "# As in many image classification problems using CNN seems good idea\n",
    "model = Sequential()\n",
    "\n",
    "# We'll use two sequential layers of convolution + max_pooling\n",
    "model.add(Conv2D(32, (5, 5), padding=\"same\", activation=\"relu\"))\n",
    "model.add(MaxPooling2D(pool_size=(2, 2)))\n",
    "\n",
    "model.add(Conv2D(32, (5, 5), padding=\"valid\", activation=\"relu\"))\n",
    "model.add(MaxPooling2D(pool_size=(2, 2)))\n",
    "\n",
    "# Then one hidden dense layer and finally output with softmax activation\n",
    "model.add(Flatten())\n",
    "model.add(Dense(200, activation=\"relu\"))\n",
    "model.add(Dense(4, activation=\"softmax\"))\n",
    "\n",
    "# Not gonna go in details for other parameters (+ there are plenty of resources in internet)"
   ]
  },
  {
   "cell_type": "code",
   "execution_count": 12,
   "metadata": {},
   "outputs": [],
   "source": [
    "# loss for multiclass output\n",
    "from tensorflow.keras.losses import categorical_crossentropy \n",
    "\n",
    "# compile model\n",
    "model.compile(loss = categorical_crossentropy, \n",
    "              optimizer = \"adam\", \n",
    "              metrics =['accuracy']) "
   ]
  },
  {
   "cell_type": "code",
   "execution_count": 13,
   "metadata": {},
   "outputs": [
    {
     "name": "stdout",
     "output_type": "stream",
     "text": [
      "Epoch 1/10\n",
      "179/179 [==============================] - 5s 25ms/step - loss: 1.0673 - accuracy: 0.5111 - val_loss: 0.2208 - val_accuracy: 0.9320\n",
      "Epoch 2/10\n",
      "179/179 [==============================] - 4s 20ms/step - loss: 0.1749 - accuracy: 0.9461 - val_loss: 0.1195 - val_accuracy: 0.9551\n",
      "Epoch 3/10\n",
      "179/179 [==============================] - 4s 20ms/step - loss: 0.0863 - accuracy: 0.9746 - val_loss: 0.0383 - val_accuracy: 0.9930\n",
      "Epoch 4/10\n",
      "179/179 [==============================] - 4s 21ms/step - loss: 0.0334 - accuracy: 0.9919 - val_loss: 0.0230 - val_accuracy: 0.9951\n",
      "Epoch 5/10\n",
      "179/179 [==============================] - 4s 20ms/step - loss: 0.0341 - accuracy: 0.9892 - val_loss: 0.0281 - val_accuracy: 0.9944\n",
      "Epoch 6/10\n",
      "179/179 [==============================] - 4s 20ms/step - loss: 0.0163 - accuracy: 0.9969 - val_loss: 0.0113 - val_accuracy: 0.9965\n",
      "Epoch 7/10\n",
      "179/179 [==============================] - 4s 21ms/step - loss: 0.0068 - accuracy: 0.9988 - val_loss: 0.0100 - val_accuracy: 0.9958\n",
      "Epoch 8/10\n",
      "179/179 [==============================] - 4s 20ms/step - loss: 0.0072 - accuracy: 0.9979 - val_loss: 0.0058 - val_accuracy: 0.9986\n",
      "Epoch 9/10\n",
      "179/179 [==============================] - 4s 20ms/step - loss: 0.0076 - accuracy: 0.9974 - val_loss: 0.0034 - val_accuracy: 0.9993\n",
      "Epoch 10/10\n",
      "179/179 [==============================] - 4s 22ms/step - loss: 0.0014 - accuracy: 1.0000 - val_loss: 0.0029 - val_accuracy: 0.9993\n"
     ]
    },
    {
     "data": {
      "text/plain": [
       "<tensorflow.python.keras.callbacks.History at 0x7efd34892f70>"
      ]
     },
     "execution_count": 13,
     "metadata": {},
     "output_type": "execute_result"
    }
   ],
   "source": [
    "# create TensorBoard callback and train model\n",
    "logdir = os.path.join(\"logs\", datetime.datetime.now().strftime(\"%Y%m%d-%H%M%S\"))\n",
    "tensorboard_callback = TensorBoard(logdir, histogram_freq=1)\n",
    "\n",
    "model.fit(X_train, y_train, \n",
    "          batch_size = 32, \n",
    "          epochs = 10, \n",
    "          validation_split = 0.2, \n",
    "          callbacks=[tensorboard_callback])"
   ]
  },
  {
   "cell_type": "code",
   "execution_count": 16,
   "metadata": {},
   "outputs": [
    {
     "name": "stdout",
     "output_type": "stream",
     "text": [
      "The tensorboard extension is already loaded. To reload it, use:\n",
      "  %reload_ext tensorboard\n"
     ]
    },
    {
     "data": {
      "text/plain": [
       "Reusing TensorBoard on port 6006 (pid 10014), started 0:27:53 ago. (Use '!kill 10014' to kill it.)"
      ]
     },
     "metadata": {},
     "output_type": "display_data"
    },
    {
     "data": {
      "text/html": [
       "\n",
       "      <iframe id=\"tensorboard-frame-e37ff7597c59dba6\" width=\"100%\" height=\"800\" frameborder=\"0\">\n",
       "      </iframe>\n",
       "      <script>\n",
       "        (function() {\n",
       "          const frame = document.getElementById(\"tensorboard-frame-e37ff7597c59dba6\");\n",
       "          const url = new URL(\"/\", window.location);\n",
       "          const port = 6006;\n",
       "          if (port) {\n",
       "            url.port = port;\n",
       "          }\n",
       "          frame.src = url;\n",
       "        })();\n",
       "      </script>\n",
       "    "
      ],
      "text/plain": [
       "<IPython.core.display.HTML object>"
      ]
     },
     "metadata": {},
     "output_type": "display_data"
    }
   ],
   "source": [
    "# load TensorBoard\n",
    "%load_ext tensorboard\n",
    "%tensorboard --logdir logs"
   ]
  },
  {
   "cell_type": "code",
   "execution_count": 17,
   "metadata": {},
   "outputs": [
    {
     "name": "stdout",
     "output_type": "stream",
     "text": [
      "25/25 [==============================] - 0s 6ms/step - loss: 0.0034 - accuracy: 1.0000\n",
      "Test loss: 0.003396371379494667\n",
      "Test accuracy: 1.0\n"
     ]
    }
   ],
   "source": [
    "# evaluate results for test set\n",
    "score = model.evaluate(X_test, y_test) \n",
    "print('Test loss:', score[0]) \n",
    "print('Test accuracy:', score[1]) "
   ]
  },
  {
   "cell_type": "markdown",
   "metadata": {},
   "source": [
    "__As we see strong architecture of CNN easily solved our problem with high accuracy.__"
   ]
  }
 ],
 "metadata": {
  "kernelspec": {
   "display_name": "Python 3",
   "language": "python",
   "name": "python3"
  },
  "language_info": {
   "codemirror_mode": {
    "name": "ipython",
    "version": 3
   },
   "file_extension": ".py",
   "mimetype": "text/x-python",
   "name": "python",
   "nbconvert_exporter": "python",
   "pygments_lexer": "ipython3",
   "version": "3.8.3"
  }
 },
 "nbformat": 4,
 "nbformat_minor": 4
}
